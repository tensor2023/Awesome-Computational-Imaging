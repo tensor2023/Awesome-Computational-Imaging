{
 "cells": [
  {
   "cell_type": "markdown",
   "metadata": {},
   "source": [
    "发生异常: AttributeError\n",
    "module 'gsplat.cuda' has no attribute 'project_gaussians_2d_forward'\n",
    "  File \"/home/xqgao/2025/MIT/code/GS/ContinuousSR-main/models/gaussian.py\", line 256, in query_output\n",
    "    weighted_cholesky, H, W, self.tile_bounds)\n",
    "\n",
    "            out_img = rasterize_gaussians_sum(xys, depths, radii, conics, num_tiles_hit,\n",
    "                                    ^^^^^^^^^^^^^^^^^^^^^^^^^^^^^^^^^^^^^^^^^^^^^^^^^^^^^^^^^^^^^^^^^^^^^^^^^^^^^^^^^^^^^^^^^^^^^^^^^^^^\n",
    "  File \"/home/xqgao/2025/MIT/code/GS/ContinuousSR-main/models/gaussian.py\", line 271, in forward\n",
    "    image = self.query_output(inp,scale)\n",
    "            ^^^^^^^^^^^^^^^^^^^^^^^^^^^^\n",
    "  File \"/home/xqgao/2025/MIT/code/GS/ContinuousSR-main/demo.py\", line 38, in <module>\n",
    "    pred = model(img.unsqueeze(0), scale).squeeze(0)\n",
    "           ^^^^^^^^^^^^^^^^^^^^^^^^^^^^^^\n",
    "AttributeError: module 'gsplat.cuda' has no attribute 'project_gaussians_2d_forward'\n",
    "\n",
    "去https://github.com/ChrisDong-THU/gsplat/blob/679b24cb8bae01935399c4685d74a69fbe19b347/gsplat/gsplat/cuda/csrc/bindings.h#L285重新安装这个包"
   ]
  },
  {
   "cell_type": "markdown",
   "metadata": {},
   "source": [
    "验证安装：python -c \"from gsplat import cuda; print(dir(cuda))\""
   ]
  }
 ],
 "metadata": {
  "language_info": {
   "name": "python"
  }
 },
 "nbformat": 4,
 "nbformat_minor": 2
}
