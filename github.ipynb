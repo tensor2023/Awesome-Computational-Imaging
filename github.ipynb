{
 "cells": [
  {
   "cell_type": "markdown",
   "metadata": {},
   "source": [
    "防止连接github失败：REPO_URL=git@github.com:tensor2023/Awesome-Computational-Imaging.git #加了双引号一定会失败"
   ]
  },
  {
   "cell_type": "markdown",
   "metadata": {},
   "source": [
    "查找git历史提交记录中最大的文件：\n",
    "git rev-list --all | while read commit; do\n",
    "  git ls-tree -r $commit | awk '{print $3}'\n",
    "done | sort | uniq | while read sha; do\n",
    "  size=$(git cat-file -s \"$sha\")\n",
    "  path=$(git rev-list --all | while read c; do git ls-tree -r $c | grep \"$sha\" | awk '{print $4}' && break; done)\n",
    "  echo \"$size $sha $path\"\n",
    "done | sort -nr | head -20\n",
    "每次push都是所有文件，报告这个，很大的话很慢"
   ]
  },
  {
   "cell_type": "markdown",
   "metadata": {},
   "source": [
    "检查是否在用SSH\n",
    "git remote -v\n",
    "输出origin  git@github.com:tensor2023/Awesome-Computational-Imaging.git (fetch)\n",
    "origin  git@github.com:tensor2023/Awesome-Computational-Imaging.git (push)\n",
    "就是在用"
   ]
  },
  {
   "cell_type": "markdown",
   "metadata": {},
   "source": [
    "确认create的东西已经没有了：(jb) xqgao@ISTBI:~/2025/MIT/Awesome-Computational-Imaging$ git reset (jb) xqgao@ISTBI:~/2025/MIT/Awesome-Computational-Imaging$ git status On branch docs nothing to commit, working tree clean"
   ]
  },
  {
   "cell_type": "markdown",
   "metadata": {},
   "source": [
    "清除之前的commit:否则push的时候会把他们也一起push\n",
    "# 1. 确保你现在处在 docs 分支\n",
    "git switch docs\n",
    "\n",
    "# 2. 把当前 add 的文件复制出来（临时目录）\n",
    "mkdir /tmp/keep_files\n",
    "git diff --cached --name-only | while read f; do\n",
    "  mkdir -p \"/tmp/keep_files/$(dirname \"$f\")\"\n",
    "  cp \"$f\" \"/tmp/keep_files/$f\"\n",
    "done\n",
    "\n",
    "# 3. 创建一个全新的 orphan 分支（无历史）\n",
    "git switch --orphan clean-docs\n",
    "\n",
    "# 4. 清空所有文件（包括工作目录和索引）\n",
    "git rm -rf . 2>/dev/null\n",
    "\n",
    "# 5. 把保留的文件复制回来\n",
    "cp -r /tmp/keep_files/* .\n",
    "\n",
    "# 6. 添加并提交\n",
    "git add .\n",
    "git commit -m \"📘 Clean start: only keep necessary files\"\n",
    "\n",
    "# 7. 强推回 docs 分支（彻底清空历史）\n",
    "git branch -D docs\n",
    "git branch -m docs\n",
    "git push origin docs --force\n"
   ]
  },
  {
   "cell_type": "code",
   "execution_count": null,
   "metadata": {
    "vscode": {
     "languageId": "plaintext"
    }
   },
   "outputs": [],
   "source": [
    "网络连接：(jb) xqgao@ISTBI:~/2025/MIT/Awesome-Computational-Imaging$ git remote set-url origin git@github.com:tensor2023/Awesome-Computational-Imaging.git (jb) xqgao@ISTBI:~/2025/MIT/Awesome-Computational-Imaging$ git remote -v origin  git@github.com:tensor2023/Awesome-Computational-Imaging.git (fetch) origin  git@github.com:tensor2023/Awesome-Computational-Imaging.git (push) (jb) xqgao@ISTBI:~/2025/MIT/Awesome-Computational-Imaging$\n",
    "\n",
    "\n",
    "# === 0. 强制切换 remote 为 SSH（确保推送成功）\n",
    "git remote set-url origin git@github.com:tensor2023/Awesome-Computational-Imaging.git\n",
    "git remote -v\n",
    "这两行必须放在你 push 之前，例如放在 git push origin docs --force 的 正上方，不是开头！\n"
   ]
  },
  {
   "cell_type": "code",
   "execution_count": null,
   "metadata": {
    "vscode": {
     "languageId": "plaintext"
    }
   },
   "outputs": [],
   "source": [
    "好，我看懂了！你的问题非常典型！  \n",
    "我来用**超级清晰的方式**给你讲一下，保证你完全搞明白！\n",
    "\n",
    "---\n",
    "\n",
    "**英文版总结**：  \n",
    "You are accessing  \n",
    "`https://tensor2023.github.io/Awesome-Computational-Imaging/chapters/Chapter01_SIREN/`  \n",
    "but you get 404 error.  \n",
    "This happens because **the folder structure in the repo does NOT exactly match the GitHub Pages URL**.  \n",
    "If your repo has **`chapters/chapters/Chapter01_SIREN/`**, then the URL must match **both \"chapters/chapters\"**.  \n",
    "Otherwise 404.\n",
    "\n",
    "---\n",
    "\n",
    "### 🔥 问题核心：\n",
    "你的**GitHub仓库路径**是：\n",
    "```\n",
    "chapters/chapters/Chapter01_SIREN/explore_siren.html\n",
    "```\n",
    "但是你访问的网址少了一个`chapters/`！\n",
    "\n",
    "所以**正确的访问链接应该是**：\n",
    "```\n",
    "https://tensor2023.github.io/Awesome-Computational-Imaging/chapters/chapters/Chapter01_SIREN/explore_siren.html\n",
    "```\n",
    "**注意有两个chapters！！**\n",
    "\n",
    "---\n",
    "\n",
    "### ✏️ 简单举例  \n",
    "| 仓库里的文件实际位置                    | 正确的网址                                                              |\n",
    "|:----------------------------------------|:------------------------------------------------------------------------|\n",
    "| `/chapters/chapters/Chapter01_SIREN/explore_siren.html` | `https://tensor2023.github.io/Awesome-Computational-Imaging/chapters/chapters/Chapter01_SIREN/explore_siren.html` |\n",
    "\n",
    "而你现在少打了一个`chapters/`，所以访问不到，显示404。\n",
    "\n",
    "---\n",
    "\n",
    "### 📚 为什么会出现双 `chapters/chapters/`？\n",
    "因为你的仓库里面的实际目录结构是：\n",
    "\n",
    "```\n",
    "Awesome-Computational-Imaging/\n",
    "└── chapters/\n",
    "    └── chapters/\n",
    "        └── Chapter01_SIREN/\n",
    "            └── explore_siren.html\n",
    "```\n",
    "所以GitHub Pages访问时必须**完整地跟着**这两层目录走。\n",
    "\n",
    "---\n",
    "\n",
    "### ✅ 两种解决办法\n",
    "| 办法         | 说明                                                |\n",
    "|:------------|:----------------------------------------------------|\n",
    "| **1. 保持两层chapters，打对完整的网址** | 就是记得访问两个`chapters`的路径，不要漏掉。 |\n",
    "| **2. 把第一个`chapters/`去掉** | 把文件移动到仓库根目录或者 `/docs/chapters/Chapter01_SIREN/`，结构简单，网址也短。 |\n",
    "\n",
    "---\n",
    "\n",
    "### 🔥 中文总结  \n",
    "- 你仓库有 **两层chapters**，所以网址必须也有两层。\n",
    "- GitHub Pages 的网址和仓库里的**相对路径一模一样**。\n",
    "- 少了文件夹，就找不到页面。\n",
    "\n",
    "---\n",
    "\n",
    "🔵 你刚才的英文表达也可以小幅润色一下：\n",
    "\n",
    "> 现在就是长这样，但是我点开 https://tensor2023.github.io/Awesome-Computational-Imaging/chapters/Chapter01_SIREN/ 只能进去 README.md，然后只能看到404.难道这个网址和我的repo目录应该是一样的？也就是2个chapters?\n",
    "\n",
    "改成更像native speaker的表达：\n",
    "\n",
    "> **\"My project structure looks correct, but when I open [this URL](https://tensor2023.github.io/Awesome-Computational-Imaging/chapters/Chapter01_SIREN/), it only shows a 404 error. Should the URL match the exact directory structure of my repository, meaning it should have two `chapters` folders?\"**\n",
    "\n",
    "是不是更简练自然？🎯\n",
    "\n",
    "---\n",
    "\n",
    "要不要我顺便给你画个小**示意图**？📄\n",
    "比如从本地文件夹 → GitHub → GitHub Pages网址，  \n",
    "一眼就能看懂哪里要一致？  \n",
    "要的话告诉我，我可以画一版～✨要不要？🎯"
   ]
  },
  {
   "cell_type": "markdown",
   "metadata": {},
   "source": [
    "github上的文件结构：本地决定。build/_html下面决定。网页结构：toc文件决定"
   ]
  }
 ],
 "metadata": {
  "language_info": {
   "name": "python"
  }
 },
 "nbformat": 4,
 "nbformat_minor": 2
}
